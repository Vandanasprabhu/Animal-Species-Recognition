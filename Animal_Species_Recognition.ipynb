{
  "nbformat": 4,
  "nbformat_minor": 0,
  "metadata": {
    "colab": {
      "provenance": [],
      "authorship_tag": "ABX9TyP4Hod36sUhUF6iu/f6zuaq",
      "include_colab_link": true
    },
    "kernelspec": {
      "name": "python3",
      "display_name": "Python 3"
    },
    "language_info": {
      "name": "python"
    }
  },
  "cells": [
    {
      "cell_type": "markdown",
      "metadata": {
        "id": "view-in-github",
        "colab_type": "text"
      },
      "source": [
        "<a href=\"https://colab.research.google.com/github/Vandanasprabhu/Animal-Species-Recognition/blob/main/Animal_Species_Recognition.ipynb\" target=\"_parent\"><img src=\"https://colab.research.google.com/assets/colab-badge.svg\" alt=\"Open In Colab\"/></a>"
      ]
    },
    {
      "cell_type": "code",
      "execution_count": null,
      "metadata": {
        "id": "OPhNMeXIOln6"
      },
      "outputs": [],
      "source": [
        "import matplotlib.pyplot as plt\n",
        "import tensorflow as tf\n",
        "from tensorflow.keras.applications import InceptionV3\n",
        "from tensorflow.keras.preprocessing.image import ImageDataGenerator\n",
        "from tensorflow.keras.layers import Dense, GlobalAveragePooling2D\n",
        "from tensorflow.keras.models import Model\n",
        "from tensorflow.keras.optimizers import Adam"
      ]
    },
    {
      "cell_type": "code",
      "execution_count": null,
      "metadata": {
        "colab": {
          "base_uri": "https://localhost:8080/"
        },
        "id": "6kbClaHPP30r",
        "outputId": "ca6f605f-64f2-4306-d61b-cab24a60720c"
      },
      "outputs": [
        {
          "output_type": "stream",
          "name": "stdout",
          "text": [
            "Mounted at /content/drive\n"
          ]
        }
      ],
      "source": [
        "from google.colab import drive\n",
        "drive.mount('/content/drive')"
      ]
    },
    {
      "cell_type": "code",
      "execution_count": null,
      "metadata": {
        "id": "Djp-7r3GRwqo"
      },
      "outputs": [],
      "source": [
        "train_dir=\"/content/drive/MyDrive/Animals_Data/Test\"\n",
        "validation_dir=\"/content/drive/MyDrive/Animals_Data/Test\""
      ]
    },
    {
      "cell_type": "code",
      "execution_count": null,
      "metadata": {
        "id": "DcQvWinM-H9j",
        "colab": {
          "base_uri": "https://localhost:8080/",
          "height": 158
        },
        "outputId": "6ffe82ae-af1b-4b08-e138-4359e7fb244c"
      },
      "outputs": [
        {
          "output_type": "error",
          "ename": "FileNotFoundError",
          "evalue": "[Errno 2] No such file or directory: '/content/drive/MyDrive/Animals_Data/Test'",
          "traceback": [
            "\u001b[0;31m---------------------------------------------------------------------------\u001b[0m",
            "\u001b[0;31mFileNotFoundError\u001b[0m                         Traceback (most recent call last)",
            "\u001b[0;32m<ipython-input-2-00a04719fea7>\u001b[0m in \u001b[0;36m<cell line: 2>\u001b[0;34m()\u001b[0m\n\u001b[1;32m      1\u001b[0m \u001b[0;32mimport\u001b[0m \u001b[0mos\u001b[0m\u001b[0;34m\u001b[0m\u001b[0;34m\u001b[0m\u001b[0m\n\u001b[0;32m----> 2\u001b[0;31m \u001b[0mos\u001b[0m\u001b[0;34m.\u001b[0m\u001b[0mlistdir\u001b[0m\u001b[0;34m(\u001b[0m\u001b[0;34m'/content/drive/MyDrive/Animals_Data/Test'\u001b[0m\u001b[0;34m)\u001b[0m\u001b[0;34m\u001b[0m\u001b[0;34m\u001b[0m\u001b[0m\n\u001b[0m",
            "\u001b[0;31mFileNotFoundError\u001b[0m: [Errno 2] No such file or directory: '/content/drive/MyDrive/Animals_Data/Test'"
          ]
        }
      ],
      "source": [
        "#import os\n",
        "#os.listdir('/content/drive/MyDrive/Animals_Data/Test')"
      ]
    },
    {
      "cell_type": "code",
      "execution_count": null,
      "metadata": {
        "id": "8YmOap_1Rndb"
      },
      "outputs": [],
      "source": [
        "num_classes=26\n",
        "image_size=(299,299)\n",
        "batch_size=32\n",
        "learning_rate=0.001\n",
        "epochs=5"
      ]
    },
    {
      "cell_type": "code",
      "execution_count": null,
      "metadata": {
        "id": "mY2XvRB6SQVf"
      },
      "outputs": [],
      "source": [
        "train_datagen=ImageDataGenerator(\n",
        "    rescale=1./255,\n",
        "    shear_range=0.2,\n",
        "    zoom_range=0.2,\n",
        "    horizontal_flip=True\n",
        ")"
      ]
    },
    {
      "cell_type": "code",
      "execution_count": null,
      "metadata": {
        "id": "msgrk5fFSjCT"
      },
      "outputs": [],
      "source": [
        "valid_datagen=ImageDataGenerator(\n",
        "    rescale=1./255)"
      ]
    },
    {
      "cell_type": "code",
      "execution_count": null,
      "metadata": {
        "id": "xFZgkkzzSrX3"
      },
      "outputs": [],
      "source": [
        "base_model=InceptionV3(weights='imagenet',include_top=False,input_shape=(image_size[0],image_size[1],3))"
      ]
    },
    {
      "cell_type": "code",
      "execution_count": null,
      "metadata": {
        "id": "LGdCMxJ1TGkK"
      },
      "outputs": [],
      "source": [
        "x=base_model.output\n",
        "x=GlobalAveragePooling2D()(x)\n",
        "x=Dense(1024,activation='relu')(x)\n",
        "predictions=Dense(num_classes,activation='softmax')(x)"
      ]
    },
    {
      "cell_type": "code",
      "execution_count": null,
      "metadata": {
        "id": "0s3CqtBBTq3u"
      },
      "outputs": [],
      "source": [
        "model=Model(inputs=base_model.input,outputs=predictions)"
      ]
    },
    {
      "cell_type": "code",
      "execution_count": null,
      "metadata": {
        "id": "vY9M3PfKT1CT"
      },
      "outputs": [],
      "source": [
        "for layer in base_model.layers:\n",
        "  layer.trainable=False"
      ]
    },
    {
      "cell_type": "code",
      "execution_count": null,
      "metadata": {
        "id": "JwRWMi0SUBwh"
      },
      "outputs": [],
      "source": [
        "model.compile(optimizer=Adam(learning_rate=learning_rate),loss='categorical_crossentropy',metrics=['accuracy'])"
      ]
    },
    {
      "cell_type": "code",
      "execution_count": null,
      "metadata": {
        "colab": {
          "base_uri": "https://localhost:8080/"
        },
        "id": "1tAbiujTUofN",
        "outputId": "ccf7bbed-7a11-446a-a7d5-0e9190f8fdb3"
      },
      "outputs": [
        {
          "name": "stdout",
          "output_type": "stream",
          "text": [
            "Found 1303 images belonging to 26 classes.\n",
            "Found 1303 images belonging to 26 classes.\n"
          ]
        }
      ],
      "source": [
        "train_generator=train_datagen.flow_from_directory(\n",
        "    train_dir,\n",
        "    target_size=image_size,\n",
        "    batch_size=batch_size,\n",
        "    class_mode='categorical'\n",
        ")\n",
        "\n",
        "valid_generator=valid_datagen.flow_from_directory(\n",
        "    validation_dir,\n",
        "    target_size=image_size,\n",
        "    batch_size=batch_size,\n",
        "    class_mode='categorical'\n",
        ")\n",
        "\n"
      ]
    },
    {
      "cell_type": "code",
      "execution_count": null,
      "metadata": {
        "colab": {
          "background_save": true,
          "base_uri": "https://localhost:8080/"
        },
        "id": "-Bjis0BllGXl",
        "outputId": "d80d1381-71a5-434e-fc21-e9a6722a0f04"
      },
      "outputs": [
        {
          "name": "stdout",
          "output_type": "stream",
          "text": [
            "Epoch 1/5\n",
            "41/41 [==============================] - 748s 18s/step - loss: 0.6558 - accuracy: 0.8526 - val_loss: 0.0738 - val_accuracy: 0.9839\n",
            "Epoch 2/5\n",
            "41/41 [==============================] - 697s 17s/step - loss: 0.1128 - accuracy: 0.9693 - val_loss: 0.0401 - val_accuracy: 0.9885\n",
            "Epoch 3/5\n",
            "41/41 [==============================] - 685s 17s/step - loss: 0.0972 - accuracy: 0.9724 - val_loss: 0.0330 - val_accuracy: 0.9908\n",
            "Epoch 4/5\n",
            "41/41 [==============================] - 685s 17s/step - loss: 0.0390 - accuracy: 0.9870 - val_loss: 0.0229 - val_accuracy: 0.9908\n",
            "Epoch 5/5\n",
            "41/41 [==============================] - 688s 17s/step - loss: 0.0476 - accuracy: 0.9885 - val_loss: 0.0187 - val_accuracy: 0.9954\n"
          ]
        }
      ],
      "source": [
        "history = model.fit(\n",
        "    train_generator,\n",
        "    steps_per_epoch=len(train_generator),\n",
        "    epochs=epochs,\n",
        "    validation_data=valid_generator,\n",
        "    validation_steps=len(valid_generator)\n",
        ")\n"
      ]
    },
    {
      "cell_type": "code",
      "execution_count": null,
      "metadata": {
        "colab": {
          "background_save": true
        },
        "id": "Tdga24VBfD1I",
        "outputId": "3b2294f8-b2de-4ce4-c82c-5ea72dcbfbe2"
      },
      "outputs": [
        {
          "name": "stderr",
          "output_type": "stream",
          "text": [
            "/usr/local/lib/python3.10/dist-packages/keras/src/engine/training.py:3103: UserWarning: You are saving your model as an HDF5 file via `model.save()`. This file format is considered legacy. We recommend using instead the native Keras format, e.g. `model.save('my_model.keras')`.\n",
            "  saving_api.save_model(\n"
          ]
        }
      ],
      "source": [
        "model.save(\"/content/drive/MyDrive/inceptionv3_model.h5\")"
      ]
    },
    {
      "cell_type": "code",
      "execution_count": null,
      "metadata": {
        "id": "Nn1M6CIcm4-Y"
      },
      "outputs": [],
      "source": [
        "model=tf.keras.models.load_model('/content/drive/MyDrive/inceptionv3_model.h5')"
      ]
    },
    {
      "cell_type": "code",
      "execution_count": null,
      "metadata": {
        "id": "tN1o_YZvnVVc",
        "colab": {
          "base_uri": "https://localhost:8080/"
        },
        "outputId": "21cb1b97-682f-4407-bf9b-62a25fc521bc"
      },
      "outputs": [
        {
          "output_type": "execute_result",
          "data": {
            "text/plain": [
              "19"
            ]
          },
          "metadata": {},
          "execution_count": 1
        }
      ],
      "source": [
        "class_labels=['Bear', 'Cat', 'Chicken', 'Dog', 'Duck', 'Elephant', 'Fish', 'Fox', 'Frog', 'Giraffe', 'Hippopotamus', 'Horse', 'Kangaroo', 'Koala', 'Lion', 'Monkey', 'Panda', 'Peacock', 'Penguin']\n",
        "len(class_labels)"
      ]
    },
    {
      "cell_type": "code",
      "execution_count": null,
      "metadata": {
        "id": "YJXy2QbWqxzN"
      },
      "outputs": [],
      "source": [
        "import numpy as np\n",
        "from PIL import Image\n",
        "import matplotlib.pyplot as plt\n",
        "from google.colab import files\n",
        "import ipywidgets as widgets\n",
        "from IPython.display import display"
      ]
    },
    {
      "cell_type": "code",
      "execution_count": null,
      "metadata": {
        "id": "l4t51MaAh3oe"
      },
      "outputs": [],
      "source": [
        "def preprocess_image(image_path):\n",
        "  img=PIL.Image.open(image_path)\n",
        "  img=img.resize((299,299))\n",
        "  img=np.array(img)/255.0\n",
        "  img=np.expand_dims(img,axis=0)\n",
        "  return img\n",
        "\n"
      ]
    },
    {
      "cell_type": "code",
      "execution_count": null,
      "metadata": {
        "id": "ZoXye1v5iVGP"
      },
      "outputs": [],
      "source": [
        "def predict_animal(image_path):\n",
        "  processed_image=preprocess_image(image_path)\n",
        "  predictions=model.predict(processed_image)\n",
        "  predicted_label=class_labels[np.argmax(predictions)]\n",
        "  confidence=np.max(predictions)\n",
        "  return predicted_label,confidence\n",
        "\n",
        "\n",
        "\n",
        "\n",
        "\n",
        "from google.colab import files\n",
        "uploaded=files.upload()\n",
        "\n",
        "uploaded_file_path=list(uploaded.keys())[0]\n",
        "\n",
        "prediction,confidence=predict_animal(uploaded_file_path)\n",
        "print(confidence)\n",
        "\n",
        "img=PIL.Image.open(uploaded_file_path)\n",
        "plt.imshow(img)\n",
        "plt.axis('off')\n",
        "if (confidence<0.80):\n",
        "\n",
        "    print(\"Data could not be found.Sorry for the inconvienence\")\n",
        "\n",
        "else:\n",
        "    plt.title(f'Prediction:{prediction}\\nConfidence:{confidence:.2%}')\n",
        "    plt.show()\n"
      ]
    }
  ]
}